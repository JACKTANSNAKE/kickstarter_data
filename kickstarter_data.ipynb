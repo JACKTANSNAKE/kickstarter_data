{
 "cells": [
  {
   "cell_type": "code",
   "execution_count": 39,
   "metadata": {},
   "outputs": [],
   "source": [
    "import pandas as pd\n",
    "import matplotlib.pyplot as plt\n",
    "from sklearn.ensemble import RandomForestClassifier\n",
    "from sklearn.model_selection import train_test_split, GridSearchCV\n",
    "from sklearn.metrics import make_scorer, accuracy_score\n",
    "from matplotlib.ticker import PercentFormatter\n",
    "from sklearn.linear_model import LinearRegression\n",
    "from sklearn.preprocessing import MinMaxScaler\n",
    "import numpy as np\n",
    "import seaborn as sns\n",
    "%matplotlib inline"
   ]
  },
  {
   "cell_type": "code",
   "execution_count": 2,
   "metadata": {},
   "outputs": [
    {
     "name": "stderr",
     "output_type": "stream",
     "text": [
      "/Users/Aleksandra/miniconda3/lib/python3.6/site-packages/IPython/core/interactiveshell.py:2728: DtypeWarning: Columns (13,14,15) have mixed types. Specify dtype option on import or set low_memory=False.\n",
      "  interactivity=interactivity, compiler=compiler, result=result)\n"
     ]
    }
   ],
   "source": [
    "df_2016 = pd.read_csv('ks-projects-201612.csv', encoding=\"ISO-8859-1\")\n",
    "df_2018 = pd.read_csv('ks-projects-201801.csv', encoding=\"ISO-8859-1\")"
   ]
  },
  {
   "cell_type": "markdown",
   "metadata": {},
   "source": [
    "### Investigate the Differences Between Datasets\n",
    "There are two datasets, but I am not sure what the difference between them is. My guess is that they contain a lot of the same data, but I want to take a look before discarding one of them."
   ]
  },
  {
   "cell_type": "code",
   "execution_count": 3,
   "metadata": {},
   "outputs": [
    {
     "data": {
      "text/html": [
       "<div>\n",
       "<style scoped>\n",
       "    .dataframe tbody tr th:only-of-type {\n",
       "        vertical-align: middle;\n",
       "    }\n",
       "\n",
       "    .dataframe tbody tr th {\n",
       "        vertical-align: top;\n",
       "    }\n",
       "\n",
       "    .dataframe thead th {\n",
       "        text-align: right;\n",
       "    }\n",
       "</style>\n",
       "<table border=\"1\" class=\"dataframe\">\n",
       "  <thead>\n",
       "    <tr style=\"text-align: right;\">\n",
       "      <th></th>\n",
       "      <th>ID</th>\n",
       "      <th>name</th>\n",
       "      <th>category</th>\n",
       "      <th>main_category</th>\n",
       "      <th>currency</th>\n",
       "      <th>deadline</th>\n",
       "      <th>goal</th>\n",
       "      <th>launched</th>\n",
       "      <th>pledged</th>\n",
       "      <th>state</th>\n",
       "      <th>backers</th>\n",
       "      <th>country</th>\n",
       "      <th>usd pledged</th>\n",
       "      <th>usd_pledged_real</th>\n",
       "      <th>usd_goal_real</th>\n",
       "    </tr>\n",
       "  </thead>\n",
       "  <tbody>\n",
       "    <tr>\n",
       "      <th>0</th>\n",
       "      <td>1000002330</td>\n",
       "      <td>The Songs of Adelaide &amp; Abullah</td>\n",
       "      <td>Poetry</td>\n",
       "      <td>Publishing</td>\n",
       "      <td>GBP</td>\n",
       "      <td>2015-10-09</td>\n",
       "      <td>1000.0</td>\n",
       "      <td>2015-08-11 12:12:28</td>\n",
       "      <td>0.0</td>\n",
       "      <td>failed</td>\n",
       "      <td>0</td>\n",
       "      <td>GB</td>\n",
       "      <td>0.0</td>\n",
       "      <td>0.0</td>\n",
       "      <td>1533.95</td>\n",
       "    </tr>\n",
       "    <tr>\n",
       "      <th>1</th>\n",
       "      <td>1000003930</td>\n",
       "      <td>Greeting From Earth: ZGAC Arts Capsule For ET</td>\n",
       "      <td>Narrative Film</td>\n",
       "      <td>Film &amp; Video</td>\n",
       "      <td>USD</td>\n",
       "      <td>2017-11-01</td>\n",
       "      <td>30000.0</td>\n",
       "      <td>2017-09-02 04:43:57</td>\n",
       "      <td>2421.0</td>\n",
       "      <td>failed</td>\n",
       "      <td>15</td>\n",
       "      <td>US</td>\n",
       "      <td>100.0</td>\n",
       "      <td>2421.0</td>\n",
       "      <td>30000.00</td>\n",
       "    </tr>\n",
       "  </tbody>\n",
       "</table>\n",
       "</div>"
      ],
      "text/plain": [
       "           ID                                           name        category  \\\n",
       "0  1000002330                The Songs of Adelaide & Abullah          Poetry   \n",
       "1  1000003930  Greeting From Earth: ZGAC Arts Capsule For ET  Narrative Film   \n",
       "\n",
       "  main_category currency    deadline     goal             launched  pledged  \\\n",
       "0    Publishing      GBP  2015-10-09   1000.0  2015-08-11 12:12:28      0.0   \n",
       "1  Film & Video      USD  2017-11-01  30000.0  2017-09-02 04:43:57   2421.0   \n",
       "\n",
       "    state  backers country  usd pledged  usd_pledged_real  usd_goal_real  \n",
       "0  failed        0      GB          0.0               0.0        1533.95  \n",
       "1  failed       15      US        100.0            2421.0       30000.00  "
      ]
     },
     "execution_count": 3,
     "metadata": {},
     "output_type": "execute_result"
    }
   ],
   "source": [
    "df_2018.head(2)"
   ]
  },
  {
   "cell_type": "code",
   "execution_count": 4,
   "metadata": {},
   "outputs": [
    {
     "data": {
      "text/html": [
       "<div>\n",
       "<style scoped>\n",
       "    .dataframe tbody tr th:only-of-type {\n",
       "        vertical-align: middle;\n",
       "    }\n",
       "\n",
       "    .dataframe tbody tr th {\n",
       "        vertical-align: top;\n",
       "    }\n",
       "\n",
       "    .dataframe thead th {\n",
       "        text-align: right;\n",
       "    }\n",
       "</style>\n",
       "<table border=\"1\" class=\"dataframe\">\n",
       "  <thead>\n",
       "    <tr style=\"text-align: right;\">\n",
       "      <th></th>\n",
       "      <th>ID</th>\n",
       "      <th>name</th>\n",
       "      <th>category</th>\n",
       "      <th>main_category</th>\n",
       "      <th>currency</th>\n",
       "      <th>deadline</th>\n",
       "      <th>goal</th>\n",
       "      <th>launched</th>\n",
       "      <th>pledged</th>\n",
       "      <th>state</th>\n",
       "      <th>backers</th>\n",
       "      <th>country</th>\n",
       "      <th>usd pledged</th>\n",
       "      <th>Unnamed: 13</th>\n",
       "      <th>Unnamed: 14</th>\n",
       "      <th>Unnamed: 15</th>\n",
       "      <th>Unnamed: 16</th>\n",
       "    </tr>\n",
       "  </thead>\n",
       "  <tbody>\n",
       "    <tr>\n",
       "      <th>0</th>\n",
       "      <td>1000002330</td>\n",
       "      <td>The Songs of Adelaide &amp; Abullah</td>\n",
       "      <td>Poetry</td>\n",
       "      <td>Publishing</td>\n",
       "      <td>GBP</td>\n",
       "      <td>2015-10-09 11:36:00</td>\n",
       "      <td>1000</td>\n",
       "      <td>2015-08-11 12:12:28</td>\n",
       "      <td>0</td>\n",
       "      <td>failed</td>\n",
       "      <td>0</td>\n",
       "      <td>GB</td>\n",
       "      <td>0</td>\n",
       "      <td>NaN</td>\n",
       "      <td>NaN</td>\n",
       "      <td>NaN</td>\n",
       "      <td>NaN</td>\n",
       "    </tr>\n",
       "    <tr>\n",
       "      <th>1</th>\n",
       "      <td>1000004038</td>\n",
       "      <td>Where is Hank?</td>\n",
       "      <td>Narrative Film</td>\n",
       "      <td>Film &amp; Video</td>\n",
       "      <td>USD</td>\n",
       "      <td>2013-02-26 00:20:50</td>\n",
       "      <td>45000</td>\n",
       "      <td>2013-01-12 00:20:50</td>\n",
       "      <td>220</td>\n",
       "      <td>failed</td>\n",
       "      <td>3</td>\n",
       "      <td>US</td>\n",
       "      <td>220</td>\n",
       "      <td>NaN</td>\n",
       "      <td>NaN</td>\n",
       "      <td>NaN</td>\n",
       "      <td>NaN</td>\n",
       "    </tr>\n",
       "  </tbody>\n",
       "</table>\n",
       "</div>"
      ],
      "text/plain": [
       "          ID                             name        category  main_category   \\\n",
       "0  1000002330  The Songs of Adelaide & Abullah          Poetry     Publishing   \n",
       "1  1000004038                   Where is Hank?  Narrative Film   Film & Video   \n",
       "\n",
       "  currency             deadline   goal             launched  pledged   state   \\\n",
       "0       GBP  2015-10-09 11:36:00   1000  2015-08-11 12:12:28        0  failed   \n",
       "1       USD  2013-02-26 00:20:50  45000  2013-01-12 00:20:50      220  failed   \n",
       "\n",
       "  backers  country  usd pledged  Unnamed: 13 Unnamed: 14 Unnamed: 15  \\\n",
       "0        0       GB            0         NaN         NaN         NaN   \n",
       "1        3       US          220         NaN         NaN         NaN   \n",
       "\n",
       "   Unnamed: 16  \n",
       "0          NaN  \n",
       "1          NaN  "
      ]
     },
     "execution_count": 4,
     "metadata": {},
     "output_type": "execute_result"
    }
   ],
   "source": [
    "df_2016.head(2)"
   ]
  },
  {
   "cell_type": "code",
   "execution_count": 5,
   "metadata": {},
   "outputs": [
    {
     "data": {
      "text/plain": [
       "Index(['ID', 'name', 'category', 'main_category', 'currency', 'deadline',\n",
       "       'goal', 'launched', 'pledged', 'state', 'backers', 'country',\n",
       "       'usd pledged', 'usd_pledged_real', 'usd_goal_real'],\n",
       "      dtype='object')"
      ]
     },
     "execution_count": 5,
     "metadata": {},
     "output_type": "execute_result"
    }
   ],
   "source": [
    "df_2018.columns"
   ]
  },
  {
   "cell_type": "code",
   "execution_count": 6,
   "metadata": {},
   "outputs": [],
   "source": [
    "df_2018['deadline'] = pd.to_datetime(df_2018['deadline'])"
   ]
  },
  {
   "cell_type": "code",
   "execution_count": 7,
   "metadata": {},
   "outputs": [
    {
     "data": {
      "text/plain": [
       "138572   2009-05-03\n",
       "213711   2009-05-16\n",
       "342226   2009-05-16\n",
       "28960    2009-05-20\n",
       "196244   2009-05-22\n",
       "Name: deadline, dtype: datetime64[ns]"
      ]
     },
     "execution_count": 7,
     "metadata": {},
     "output_type": "execute_result"
    }
   ],
   "source": [
    "df_2018['deadline'].sort_values().head()"
   ]
  },
  {
   "cell_type": "code",
   "execution_count": 8,
   "metadata": {},
   "outputs": [
    {
     "name": "stdout",
     "output_type": "stream",
     "text": [
      "(378661, 15)\n",
      "(323750, 17)\n"
     ]
    }
   ],
   "source": [
    "print(df_2018.shape)\n",
    "print(df_2016.shape)"
   ]
  },
  {
   "cell_type": "code",
   "execution_count": 9,
   "metadata": {},
   "outputs": [],
   "source": [
    "df_2016.columns = [s.replace(' ','') for s in df_2016.columns]"
   ]
  },
  {
   "cell_type": "code",
   "execution_count": 10,
   "metadata": {},
   "outputs": [
    {
     "data": {
      "text/plain": [
       "269970               Esoteric\n",
       "118552    2009-05-03 08:59:59\n",
       "292628    2009-05-16 01:10:00\n",
       "182855    2009-05-16 11:59:00\n",
       "24856     2009-05-20 21:50:00\n",
       "Name: deadline, dtype: object"
      ]
     },
     "execution_count": 10,
     "metadata": {},
     "output_type": "execute_result"
    }
   ],
   "source": [
    "df_2016[df_2016['deadline']!= 'USD']['deadline'].sort_values().head()"
   ]
  },
  {
   "cell_type": "markdown",
   "metadata": {},
   "source": [
    "#### Differences:\n",
    "- the 2018 file is an extension of the 2016 file\n",
    "    - 2018 file has about 55,000 more entries\n",
    "- 2016 file has an extra two columns, but these are mostly null values so we would drop these features anyway\n",
    "\n",
    "Conclusion is that we should just use the 2018 dataset for the analysis of Kickstarter Projects, just because it is essentially a more substantial dataset\n"
   ]
  },
  {
   "cell_type": "markdown",
   "metadata": {},
   "source": [
    "### Analysis of Features\n",
    "\n",
    "There are numerous categorical variables in this dataset that must be encoded:\n",
    "- category, main_categotu, currency, state, country.\n",
    "\n",
    "However, some of these variables are also redundant. For example, we would only really need to know the realy amount of USD pledged to the project. The currency is then irrelevant, especially since we still know the relevant location. Furthermore, category and main_category are also somewhat redundant, and only one of these should be kept."
   ]
  },
  {
   "cell_type": "code",
   "execution_count": 11,
   "metadata": {},
   "outputs": [],
   "source": [
    "df = df_2018"
   ]
  },
  {
   "cell_type": "code",
   "execution_count": 12,
   "metadata": {},
   "outputs": [
    {
     "name": "stdout",
     "output_type": "stream",
     "text": [
      "159\n",
      "15\n"
     ]
    }
   ],
   "source": [
    "print(len(df.category.unique()))\n",
    "print(len(df.main_category.unique())) \n",
    "#main_category will help us keep dimensionality low after one hot encoding"
   ]
  },
  {
   "cell_type": "code",
   "execution_count": 13,
   "metadata": {},
   "outputs": [
    {
     "data": {
      "text/plain": [
       "True"
      ]
     },
     "execution_count": 13,
     "metadata": {},
     "output_type": "execute_result"
    }
   ],
   "source": [
    "df.shape[0]==len(df.ID.unique()) #ID column is unique, but doesnt give us much info"
   ]
  },
  {
   "cell_type": "code",
   "execution_count": 14,
   "metadata": {},
   "outputs": [
    {
     "data": {
      "text/plain": [
       "Index(['ID', 'name', 'category', 'main_category', 'currency', 'deadline',\n",
       "       'goal', 'launched', 'pledged', 'state', 'backers', 'country',\n",
       "       'usd pledged', 'usd_pledged_real', 'usd_goal_real'],\n",
       "      dtype='object')"
      ]
     },
     "execution_count": 14,
     "metadata": {},
     "output_type": "execute_result"
    }
   ],
   "source": [
    "df.columns"
   ]
  },
  {
   "cell_type": "code",
   "execution_count": 15,
   "metadata": {},
   "outputs": [],
   "source": [
    "df.launched = pd.to_datetime(df.launched)"
   ]
  },
  {
   "cell_type": "code",
   "execution_count": 16,
   "metadata": {},
   "outputs": [
    {
     "data": {
      "text/plain": [
       "US      292627\n",
       "GB       33672\n",
       "CA       14756\n",
       "AU        7839\n",
       "DE        4171\n",
       "N,0\"      3797\n",
       "FR        2939\n",
       "IT        2878\n",
       "NL        2868\n",
       "ES        2276\n",
       "SE        1757\n",
       "MX        1752\n",
       "NZ        1447\n",
       "DK        1113\n",
       "IE         811\n",
       "CH         761\n",
       "NO         708\n",
       "HK         618\n",
       "BE         617\n",
       "AT         597\n",
       "SG         555\n",
       "LU          62\n",
       "JP          40\n",
       "Name: country, dtype: int64"
      ]
     },
     "execution_count": 16,
     "metadata": {},
     "output_type": "execute_result"
    }
   ],
   "source": [
    "df.country.value_counts()"
   ]
  },
  {
   "cell_type": "code",
   "execution_count": 17,
   "metadata": {},
   "outputs": [],
   "source": [
    "#assuming country N,0\" is a typo. Rewriting as 'NO'\n",
    "\n",
    "df.country = df.country.replace(to_replace='N,0\"', value='NO')"
   ]
  },
  {
   "cell_type": "code",
   "execution_count": 18,
   "metadata": {},
   "outputs": [],
   "source": [
    "df['cancelled'] = ((df.state == 'cancelled') | (df.state== 'suspended'))*1"
   ]
  },
  {
   "cell_type": "code",
   "execution_count": 19,
   "metadata": {},
   "outputs": [],
   "source": [
    "df['success'] = (df.usd_goal_real <= df.usd_pledged_real)*1"
   ]
  },
  {
   "cell_type": "code",
   "execution_count": 20,
   "metadata": {},
   "outputs": [
    {
     "data": {
      "text/plain": [
       "count    378661.000000\n",
       "mean          0.361912\n",
       "std           0.480554\n",
       "min           0.000000\n",
       "25%           0.000000\n",
       "50%           0.000000\n",
       "75%           1.000000\n",
       "max           1.000000\n",
       "Name: success, dtype: float64"
      ]
     },
     "execution_count": 20,
     "metadata": {},
     "output_type": "execute_result"
    }
   ],
   "source": [
    "df.success.describe()"
   ]
  },
  {
   "cell_type": "code",
   "execution_count": 21,
   "metadata": {},
   "outputs": [],
   "source": [
    "df['duration'] = (df.deadline - df.launched).astype('timedelta64[h]')"
   ]
  },
  {
   "cell_type": "code",
   "execution_count": 22,
   "metadata": {},
   "outputs": [],
   "source": [
    "#one hot encode categorical variables, dropping unneeded variables\n",
    "df_encoded = pd.get_dummies(df.drop(labels=['name', 'launched', 'deadline', 'state','category', 'currency', 'usd pledged', 'pledged', 'ID', 'goal'], axis=1), columns=['main_category', 'country'])"
   ]
  },
  {
   "cell_type": "code",
   "execution_count": 51,
   "metadata": {},
   "outputs": [],
   "source": [
    "#add a variable that shows average pledge for each project\n",
    "df_encoded['average_backing'] = (df_encoded['usd_pledged_real']/(df_encoded['backers']+1))"
   ]
  },
  {
   "cell_type": "markdown",
   "metadata": {},
   "source": [
    "### Data Analysis\n",
    "I want to start off by understanding the data that underlies Kickstarter projects. This includes things like places of origin, predominant categories, durations, goals etc."
   ]
  },
  {
   "cell_type": "code",
   "execution_count": 23,
   "metadata": {},
   "outputs": [
    {
     "data": {
      "image/png": "[encoded data removed]",
      "text/plain": [
       "<Figure size 432x288 with 1 Axes>"
      ]
     },
     "metadata": {},
     "output_type": "display_data"
    }
   ],
   "source": [
    "ax = (df.country.value_counts()/df.shape[0]*100).plot(kind='bar')\n",
    "plt.title(\"Kickstarter Projects by Country\")\n",
    "ax.yaxis.set_major_formatter(PercentFormatter());"
   ]
  },
  {
   "cell_type": "code",
   "execution_count": 24,
   "metadata": {},
   "outputs": [
    {
     "data": {
      "image/png": "[encoded data removed]",
      "text/plain": [
       "<Figure size 432x288 with 1 Axes>"
      ]
     },
     "metadata": {},
     "output_type": "display_data"
    }
   ],
   "source": [
    "ax = (df.main_category.value_counts()/df.shape[0]*100).plot(kind='bar')\n",
    "plt.title(\"Kickstarter Projects by Category\")\n",
    "ax.yaxis.set_major_formatter(PercentFormatter());"
   ]
  },
  {
   "cell_type": "code",
   "execution_count": 32,
   "metadata": {},
   "outputs": [
    {
     "data": {
      "text/plain": [
       "count    3.786610e+05\n",
       "mean     4.908079e+04\n",
       "std      1.183391e+06\n",
       "min      1.000000e-02\n",
       "25%      2.000000e+03\n",
       "50%      5.200000e+03\n",
       "75%      1.600000e+04\n",
       "max      1.000000e+08\n",
       "Name: goal, dtype: float64"
      ]
     },
     "execution_count": 32,
     "metadata": {},
     "output_type": "execute_result"
    }
   ],
   "source": [
    "df.goal.describe()"
   ]
  },
  {
   "cell_type": "markdown",
   "metadata": {},
   "source": [
    "The above is quite interesting as it shows us the median fundraising goal is 5,200 USD , the 75th percentile is 16,000 USD, and the 25th percentile is 2000 USD. In other words, there are plenty of kickstarter projects that do not need much to get started. Maybe this could be a key?"
   ]
  },
  {
   "cell_type": "code",
   "execution_count": 26,
   "metadata": {},
   "outputs": [
    {
     "data": {
      "image/png": "[encoded data removed]",
      "text/plain": [
       "<Figure size 432x288 with 1 Axes>"
      ]
     },
     "metadata": {},
     "output_type": "display_data"
    }
   ],
   "source": [
    "ax = (df_encoded.success.value_counts()/df.shape[0]*100).plot(kind='bar')\n",
    "plt.title(\"Kickstarter Projects by Success\")\n",
    "ax.yaxis.set_major_formatter(PercentFormatter())\n",
    "plt.xticks([0,1], ['fail', 'success']);"
   ]
  },
  {
   "cell_type": "markdown",
   "metadata": {},
   "source": [
    "#### Descriptive Statistics\n",
    "What can we learn from looking at some descriptive statistics?\n",
    "What is correlated with success? We have to keep in mind that correlation does not imply causality, but this could give us a good idea anyway."
   ]
  },
  {
   "cell_type": "code",
   "execution_count": 52,
   "metadata": {},
   "outputs": [
    {
     "data": {
      "image/png": "[encoded data removed]",
      "text/plain": [
       "<Figure size 360x360 with 2 Axes>"
      ]
     },
     "metadata": {},
     "output_type": "display_data"
    }
   ],
   "source": [
    "#correlation between the time, and goal and pldeged money\n",
    "corr_time = df_encoded[['success','duration', 'cancelled', 'usd_goal_real', \n",
    "                        'usd_pledged_real', 'backers', 'average_backing']].corr()\n",
    "\n",
    "fig, ax = plt.subplots(figsize=(5,5))\n",
    "sns.heatmap(corr_time, xticklabels=corr_time.columns, yticklabels=corr_time.columns, \n",
    "            ax=ax, linewidths=0.01);"
   ]
  },
  {
   "cell_type": "code",
   "execution_count": 28,
   "metadata": {},
   "outputs": [
    {
     "data": {
      "image/png": "[encoded data removed]",
      "text/plain": [
       "<Figure size 720x720 with 2 Axes>"
      ]
     },
     "metadata": {},
     "output_type": "display_data"
    }
   ],
   "source": [
    "#correlation between success and country of origin for project\n",
    "corr_country = df_encoded[['success', 'country_AT', 'country_AU', 'country_BE',\n",
    "       'country_CA', 'country_CH', 'country_DE', 'country_DK', 'country_ES',\n",
    "       'country_FR', 'country_GB', 'country_HK', 'country_IE', 'country_IT',\n",
    "       'country_JP', 'country_LU', 'country_MX', 'country_NL', 'country_NO',\n",
    "       'country_NZ', 'country_SE', 'country_SG', 'country_US']].corr()\n",
    "\n",
    "fig, ax = plt.subplots(figsize=(10,10))\n",
    "sns.heatmap(corr_country, xticklabels=corr_country.columns, yticklabels=corr_country.columns, \n",
    "            ax=ax, linewidths=0.01);"
   ]
  },
  {
   "cell_type": "code",
   "execution_count": 29,
   "metadata": {},
   "outputs": [
    {
     "data": {
      "image/png": "[encoded data removed]",
      "text/plain": [
       "<Figure size 720x720 with 2 Axes>"
      ]
     },
     "metadata": {},
     "output_type": "display_data"
    }
   ],
   "source": [
    "#correlation between sphere of project and success\n",
    "corr_cat = df_encoded[['success','main_category_Art', 'main_category_Comics',\n",
    "       'main_category_Crafts', 'main_category_Dance', 'main_category_Design',\n",
    "       'main_category_Fashion', 'main_category_Film & Video',\n",
    "       'main_category_Food', 'main_category_Games', 'main_category_Journalism',\n",
    "       'main_category_Music', 'main_category_Photography',\n",
    "       'main_category_Publishing', 'main_category_Technology',\n",
    "       'main_category_Theater']].corr()\n",
    "\n",
    "fig, ax = plt.subplots(figsize=(10,10))\n",
    "sns.heatmap(corr_cat, xticklabels=corr_cat.columns, yticklabels=corr_cat.columns, ax=ax, \n",
    "            linewidths=0.01);"
   ]
  },
  {
   "cell_type": "code",
   "execution_count": 53,
   "metadata": {},
   "outputs": [
    {
     "data": {
      "text/plain": [
       "count    378661.000000\n",
       "mean         11.976360\n",
       "std         116.407377\n",
       "min           0.000000\n",
       "25%           0.040531\n",
       "50%           0.842644\n",
       "75%           5.575035\n",
       "max       27010.605936\n",
       "dtype: float64"
      ]
     },
     "execution_count": 53,
     "metadata": {},
     "output_type": "execute_result"
    }
   ],
   "source": [
    "#number of dollars pledged per hour\n",
    "(df_encoded.usd_pledged_real/(df_encoded.duration+1)).describe()"
   ]
  },
  {
   "cell_type": "markdown",
   "metadata": {},
   "source": [
    "#### ML Classification Model\n",
    "Let's see if we can accurately predict which projects will be successful and which ones won't.\n",
    "We will use a random forest classifier as this ensemble learner is usually quite powerful, and is not distance based (so we dont have to further scale the features like `duration` or `usd_pledged_real` or `usd_goal_real`)"
   ]
  },
  {
   "cell_type": "code",
   "execution_count": 77,
   "metadata": {},
   "outputs": [],
   "source": [
    "X_train, X_test, y_train, y_test = train_test_split(df_encoded.drop(['success'], axis='columns').values,\n",
    "                                                    df_encoded.success, \n",
    "                                                    test_size=0.2)"
   ]
  },
  {
   "cell_type": "code",
   "execution_count": 81,
   "metadata": {},
   "outputs": [
    {
     "name": "stdout",
     "output_type": "stream",
     "text": [
      "0.9938732124701253\n"
     ]
    }
   ],
   "source": [
    "rand_forest = RandomForestClassifier()\n",
    "rand_forest.fit(X_train, y_train)\n",
    "forest_test_predictions = rand_forest.predict(X_test)\n",
    "print(accuracy_score(y_test, forest_test_predictions))"
   ]
  },
  {
   "cell_type": "code",
   "execution_count": 95,
   "metadata": {},
   "outputs": [
    {
     "data": {
      "text/plain": [
       "array([0.285, 0.403, 0.251, 0.   , 0.027, 0.001, 0.001, 0.   , 0.   ,\n",
       "       0.003, 0.001, 0.001, 0.001, 0.003, 0.   , 0.006, 0.   , 0.001,\n",
       "       0.003, 0.002, 0.   , 0.   , 0.   , 0.001, 0.   , 0.   , 0.   ,\n",
       "       0.   , 0.   , 0.001, 0.   , 0.   , 0.   , 0.   , 0.   , 0.   ,\n",
       "       0.   , 0.002, 0.   , 0.   , 0.   , 0.001])"
      ]
     },
     "execution_count": 95,
     "metadata": {},
     "output_type": "execute_result"
    }
   ],
   "source": [
    "#importance of features rounded to nearest 3 decimals\n",
    "rand_forest.feature_importances_.round(3)"
   ]
  },
  {
   "cell_type": "markdown",
   "metadata": {},
   "source": [
    "This model does pretty well, however we have included the `usd_pledged_real` and `backers` features in this which might be skewing the results. Remember that `usd_pledged_real` and `backers` were very highly correlated with `success` (obviously).\n",
    "\n",
    "Lets remove this variable and see how the model does."
   ]
  },
  {
   "cell_type": "code",
   "execution_count": 107,
   "metadata": {},
   "outputs": [
    {
     "name": "stdout",
     "output_type": "stream",
     "text": [
      "0.6466929872050493\n"
     ]
    }
   ],
   "source": [
    "X_train_2, X_test_2, y_train_2, y_test_2 = train_test_split(df_encoded.drop(['success', 'usd_pledged_real', 'backers'], axis='columns').values,\n",
    "                                                            df_encoded.success, test_size=0.2, random_state=0)\n",
    "rand_forest_2 = RandomForestClassifier(random_state=42)\n",
    "rand_forest_2.fit(X_train_2, y_train_2)\n",
    "forest_test_predictions_2 = rand_forest_2.predict(X_test_2)\n",
    "print(accuracy_score(y_test_2, forest_test_predictions_2))"
   ]
  },
  {
   "cell_type": "code",
   "execution_count": 103,
   "metadata": {},
   "outputs": [
    {
     "data": {
      "text/plain": [
       "array([0.429, 0.002, 0.473, 0.002, 0.005, 0.003, 0.004, 0.002, 0.005,\n",
       "       0.003, 0.004, 0.003, 0.002, 0.012, 0.002, 0.003, 0.01 , 0.008,\n",
       "       0.001, 0.002, 0.001, 0.002, 0.001, 0.002, 0.001, 0.001, 0.001,\n",
       "       0.003, 0.001, 0.001, 0.002, 0.   , 0.   , 0.001, 0.001, 0.002,\n",
       "       0.001, 0.001, 0.001, 0.004])"
      ]
     },
     "execution_count": 103,
     "metadata": {},
     "output_type": "execute_result"
    }
   ],
   "source": [
    "#importance of features rounded to nearest 3 decimals\n",
    "rand_forest_2.feature_importances_.round(3)"
   ]
  },
  {
   "cell_type": "code",
   "execution_count": 127,
   "metadata": {},
   "outputs": [
    {
     "name": "stdout",
     "output_type": "stream",
     "text": [
      "usd_goal_real\n",
      "duration\n",
      "main_category_Music\n"
     ]
    }
   ],
   "source": [
    "print(df_encoded.drop(['success', 'usd_pledged_real', 'backers'], axis='columns').columns[0])\n",
    "print(df_encoded.drop(['success', 'usd_pledged_real', 'backers'], axis='columns').columns[2])\n",
    "print(df_encoded.drop(['success', 'usd_pledged_real', 'backers'], axis='columns').columns[13])"
   ]
  },
  {
   "cell_type": "code",
   "execution_count": 125,
   "metadata": {},
   "outputs": [],
   "source": [
    "#grid search to optimize random forest classifier\n",
    "parameters={'n_estimators':[5,10,15,20],\n",
    "            'max_depth':[None,2,5,10,15],\n",
    "            'min_samples_split':[2, 4, 8]}\n",
    "clf = RandomForestClassifier(random_state=42)\n",
    "scorer = make_scorer(accuracy_score)\n",
    "grid_obj = GridSearchCV(clf, parameters, scoring=scorer)\n",
    "grid_fit = grid_obj.fit(X_train_2, y_train_2)\n",
    "best_clf = grid_fit.best_estimator_"
   ]
  },
  {
   "cell_type": "code",
   "execution_count": 118,
   "metadata": {},
   "outputs": [],
   "source": [
    "predictions = best_clf.predict(X_test_2)"
   ]
  },
  {
   "cell_type": "code",
   "execution_count": 124,
   "metadata": {},
   "outputs": [
    {
     "name": "stdout",
     "output_type": "stream",
     "text": [
      "0.681380639879577\n"
     ]
    }
   ],
   "source": [
    "print(accuracy_score(y_test_2, predictions))"
   ]
  },
  {
   "cell_type": "code",
   "execution_count": 126,
   "metadata": {},
   "outputs": [
    {
     "data": {
      "text/plain": [
       "array([0.412, 0.007, 0.266, 0.002, 0.024, 0.012, 0.015, 0.006, 0.027,\n",
       "       0.004, 0.017, 0.004, 0.006, 0.053, 0.005, 0.014, 0.04 , 0.039,\n",
       "       0.   , 0.002, 0.001, 0.003, 0.001, 0.003, 0.001, 0.001, 0.001,\n",
       "       0.004, 0.001, 0.001, 0.004, 0.   , 0.   , 0.002, 0.002, 0.004,\n",
       "       0.001, 0.001, 0.   , 0.015])"
      ]
     },
     "execution_count": 126,
     "metadata": {},
     "output_type": "execute_result"
    }
   ],
   "source": [
    "best_clf.feature_importances_.round(3)"
   ]
  },
  {
   "cell_type": "code",
   "execution_count": 128,
   "metadata": {},
   "outputs": [
    {
     "name": "stdout",
     "output_type": "stream",
     "text": [
      "usd_goal_real\n",
      "duration\n",
      "main_category_Comics\n",
      "main_category_Fashion\n",
      "main_category_Music\n",
      "main_category_Theater\n"
     ]
    }
   ],
   "source": [
    "print(df_encoded.drop(['success', 'usd_pledged_real', 'backers'], axis='columns').columns[0])\n",
    "print(df_encoded.drop(['success', 'usd_pledged_real', 'backers'], axis='columns').columns[2])\n",
    "print(df_encoded.drop(['success', 'usd_pledged_real', 'backers'], axis='columns').columns[4])\n",
    "print(df_encoded.drop(['success', 'usd_pledged_real', 'backers'], axis='columns').columns[8])\n",
    "print(df_encoded.drop(['success', 'usd_pledged_real', 'backers'], axis='columns').columns[13])\n",
    "print(df_encoded.drop(['success', 'usd_pledged_real', 'backers'], axis='columns').columns[17])"
   ]
  },
  {
   "cell_type": "markdown",
   "metadata": {},
   "source": [
    "### Conclusion\n",
    "\n",
    "Based on the optimized Random Forest Classifier, for which we removed the `usd_pledged_real` and `backers` features as these were going to distort our model as we want to know what can help us get more backers and funding.\n",
    "\n",
    "Based on the feature importance of the Random Forest Ensemble Learner, the most important features are `usd_goal_real`, `duration`, `main_category_Comics`, `main_category_Fashion`, `main_category_Music`, and `main_category_Theater`. This shows us that what we set as the monetary goal and how long we allow people to pledge for really does matter a lot. What is quite surprising for me, and is corroborated by the analysis of descriptive statistics is that Arts and Performance are more likely to succeed. I wonder why...\n",
    "\n",
    "Overall I would not say there is one contributing factor to success on Kickstarter. Many things contribute to it that cannot be explained through data. For example, the business idea, planning, incentives to pledge, or project design cannot be easily quantified. Maybe if we had sentiment data from the comments on each project we could combine that into a much larger and better classification model to predict our success."
   ]
  },
  {
   "cell_type": "code",
   "execution_count": null,
   "metadata": {},
   "outputs": [],
   "source": []
  }
 ],
 "metadata": {
  "kernelspec": {
   "display_name": "Python 3",
   "language": "python",
   "name": "python3"
  },
  "language_info": {
   "codemirror_mode": {
    "name": "ipython",
    "version": 3
   },
   "file_extension": ".py",
   "mimetype": "text/x-python",
   "name": "python",
   "nbconvert_exporter": "python",
   "pygments_lexer": "ipython3",
   "version": "3.6.3"
  }
 },
 "nbformat": 4,
 "nbformat_minor": 2
}
